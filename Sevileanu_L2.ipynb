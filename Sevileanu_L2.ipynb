{
  "nbformat": 4,
  "nbformat_minor": 0,
  "metadata": {
    "colab": {
      "name": "Sevileanu_L2.ipynb",
      "provenance": [],
      "toc_visible": true,
      "authorship_tag": "ABX9TyNDy7LQy+wNgCDMxHFSOnX1",
      "include_colab_link": true
    },
    "kernelspec": {
      "name": "python3",
      "display_name": "Python 3"
    },
    "language_info": {
      "name": "python"
    }
  },
  "cells": [
    {
      "cell_type": "markdown",
      "metadata": {
        "id": "view-in-github",
        "colab_type": "text"
      },
      "source": [
        "<a href=\"https://colab.research.google.com/github/Sevileanu/UNICAMP-IA868X/blob/main/Sevileanu_L2.ipynb\" target=\"_parent\"><img src=\"https://colab.research.google.com/assets/colab-badge.svg\" alt=\"Open In Colab\"/></a>"
      ]
    },
    {
      "cell_type": "markdown",
      "metadata": {
        "id": "Pf5wBaiwTgz8"
      },
      "source": [
        "# Laboratório 2 IA868-X\n",
        "## Sergio Sevileanu\n",
        "### RA 941095"
      ]
    },
    {
      "cell_type": "code",
      "metadata": {
        "id": "WKb42wYbTvi7"
      },
      "source": [
        "import pandas as pd"
      ],
      "execution_count": 1,
      "outputs": []
    },
    {
      "cell_type": "code",
      "metadata": {
        "id": "-sB3U9vuULVX"
      },
      "source": [
        "data = pd.read_csv('data/heart/raw/heart.csv', dtype = str)"
      ],
      "execution_count": null,
      "outputs": []
    }
  ]
}